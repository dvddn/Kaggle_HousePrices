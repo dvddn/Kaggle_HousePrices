{
 "cells": [
  {
   "cell_type": "code",
   "execution_count": null,
   "metadata": {},
   "outputs": [],
   "source": [
    "import pandas as pd\n",
    "import numpy as np"
   ]
  },
  {
   "cell_type": "code",
   "execution_count": null,
   "metadata": {},
   "outputs": [],
   "source": [
    "df_train = pd.read_csv('train.csv')"
   ]
  },
  {
   "cell_type": "code",
   "execution_count": null,
   "metadata": {},
   "outputs": [],
   "source": [
    "df_test = pd.read_csv('test.csv')"
   ]
  },
  {
   "cell_type": "code",
   "execution_count": null,
   "metadata": {},
   "outputs": [],
   "source": []
  },
  {
   "cell_type": "code",
   "execution_count": null,
   "metadata": {},
   "outputs": [],
   "source": [
    "df_train.shape"
   ]
  },
  {
   "cell_type": "code",
   "execution_count": null,
   "metadata": {},
   "outputs": [],
   "source": [
    "df_train.drop('Utilities', axis=1, inplace=True)\n",
    "df_test.drop('Utilities', axis=1, inplace=True)"
   ]
  },
  {
   "cell_type": "code",
   "execution_count": null,
   "metadata": {},
   "outputs": [],
   "source": [
    "numerical = ['LotFrontage', 'LotArea', 'YearBuilt', 'YearRemodAdd', \n",
    "             'MasVnrArea', 'BsmtFinSF1', 'BsmtFinSF2', 'BsmtUnfSF',\n",
    "             'TotalBsmtSF', '1stFlrSF', '2ndFlrSF','LowQualFinSF', \n",
    "             'GrLivArea', 'BsmtFullBath', 'BsmtHalfBath', 'FullBath',\n",
    "             'HalfBath', 'TotRmsAbvGrd', 'Fireplaces', 'KitchenAbvGr',\n",
    "             'GarageYrBlt', 'GarageCars', 'GarageArea', 'WoodDeckSF', \n",
    "             'BedroomAbvGr', 'OpenPorchSF', 'EnclosedPorch', '3SsnPorch', \n",
    "             'ScreenPorch', 'PoolArea', 'MiscVal']\n",
    "ordinal = ['OverallQual', 'OverallCond', 'ExterQual', 'ExterCond', \n",
    "           'BsmtQual', 'BsmtCond', 'BsmtExposure', 'BsmtFinType1',\n",
    "           'BsmtFinType2', 'HeatingQC', 'KitchenQual', 'Functional', \n",
    "           'FireplaceQu', 'GarageFinish', 'GarageQual', 'GarageCond', \n",
    "           'PavedDrive', 'PoolQC', 'Fence']\n",
    "binary = ['CentralAir']\n",
    "cyclical = ['MoSold', 'YrSold']\n",
    "ids = ['Id'] \n",
    "goal = ['SalePrice']\n",
    "categorical = set(df_train.columns).difference(set(numerical),\n",
    "                                              set(ordinal), set(binary),\n",
    "                                              set(cyclical), set(ids),\n",
    "                                              set(goal))\n"
   ]
  },
  {
   "cell_type": "code",
   "execution_count": null,
   "metadata": {},
   "outputs": [],
   "source": [
    "y_train = df_train.SalePrice\n",
    "df_full = pd.concat([df_train.drop('SalePrice', axis=1), df_test])\n",
    "df_full.set_index('Id', inplace=True, drop=True)"
   ]
  },
  {
   "cell_type": "code",
   "execution_count": null,
   "metadata": {},
   "outputs": [],
   "source": [
    "################# DEALING WITH NUMERICAL VARIABLES ###########################"
   ]
  },
  {
   "cell_type": "code",
   "execution_count": null,
   "metadata": {},
   "outputs": [],
   "source": [
    "# Transform Month and Year sold into a single\n",
    "df_full.MoSold = (df_full.MoSold - 1)/12\n",
    "df_full['TimeSold'] = df_full.MoSold + df_full.YrSold\n",
    "numerical.append('TimeSold')\n",
    "df_full.drop(cyclical, axis=1, inplace=True)"
   ]
  },
  {
   "cell_type": "code",
   "execution_count": null,
   "metadata": {},
   "outputs": [],
   "source": [
    "df_full[numerical].head()"
   ]
  },
  {
   "cell_type": "code",
   "execution_count": null,
   "metadata": {},
   "outputs": [],
   "source": [
    "df_full[numerical].isna().sum()[df_full[numerical].isna().any()]"
   ]
  },
  {
   "cell_type": "code",
   "execution_count": null,
   "metadata": {},
   "outputs": [],
   "source": [
    "df_full[numerical] =  df_full[numerical].fillna(0)\n",
    "# These NAs are related to missing pieces in the house (no garage, no front)\n",
    "# etc. 0 is adequate as it can be regressed on for areas, while it allows an\n",
    "# easy split and separation between HAS - HAS NOT"
   ]
  },
  {
   "cell_type": "code",
   "execution_count": null,
   "metadata": {},
   "outputs": [],
   "source": [
    "################# DEALING WITH ORDINAL VARIABLES ###########################"
   ]
  },
  {
   "cell_type": "code",
   "execution_count": null,
   "metadata": {},
   "outputs": [],
   "source": [
    "ordinal"
   ]
  },
  {
   "cell_type": "code",
   "execution_count": null,
   "metadata": {},
   "outputs": [],
   "source": [
    "df_full.ExterQual.unique()"
   ]
  },
  {
   "cell_type": "code",
   "execution_count": null,
   "metadata": {},
   "outputs": [],
   "source": [
    "ordinal_map_1 = {'Ex':5,\n",
    "                 'Gd':4,\n",
    "                 'TA':3,\n",
    "                 'Fa':2,\n",
    "                 'Po':1,\n",
    "                 np.nan: 0}\n",
    "ordinal_map_2 = {'Gd':4,\n",
    "                 'Av':3,\n",
    "                 'Mn':2,\n",
    "                 'No':1,\n",
    "                 np.nan: 0}\n",
    "ordinal_map_3 = {'GLQ':6,\n",
    "                 'ALQ':5,\n",
    "                 'BLQ':4,\n",
    "                 'Rec':3,\n",
    "                 'LwQ':2,\n",
    "                 'Unf':1,\n",
    "                 np.nan: 0}\n",
    "ordinal_map_4 = {'Typ':8,\n",
    "                 'Min1':7,\n",
    "                 'Min2':6,\n",
    "                 'Mod':5,\n",
    "                 'Maj1':4,\n",
    "                 'Maj2':3,\n",
    "                 'Sev':2,\n",
    "                 'Sav':1}\n",
    "ordinal_map_5 = {'Fin':3,\n",
    "                 'RFn':2,\n",
    "                 'Unf':1,\n",
    "                 np.nan: 0}\n",
    "ordinal_map_6 = {'Y':2,\n",
    "                 'P':2,\n",
    "                 'N':1,\n",
    "                 np.nan: 0}\n",
    "ordinal_map_7 = {'GdPrv':4,\n",
    "                 'MnPrv':3,\n",
    "                 'GdWo':2,\n",
    "                 'MnWw':1,\n",
    "                 np.nan: 0}"
   ]
  },
  {
   "cell_type": "code",
   "execution_count": null,
   "metadata": {},
   "outputs": [],
   "source": [
    "ordinal_2 = ['BsmtExposure']\n",
    "ordinal_3 = ['BsmtFinType1', 'BsmtFinType2']\n",
    "ordinal_4 = ['Functional']\n",
    "ordinal_5 = ['GarageFinish']\n",
    "ordinal_6 = ['PavedDrive']\n",
    "ordinal_7 = ['Fence']\n",
    "ordinal_num = ['OverallCond', 'OverallQual']\n",
    "ordinal_1 = list(set(ordinal).difference(set(ordinal_2), set(ordinal_3),\n",
    "                                        set(ordinal_3), set(ordinal_4),\n",
    "                                        set(ordinal_5), set(ordinal_6),\n",
    "                                        set(ordinal_7), set(ordinal_num)))"
   ]
  },
  {
   "cell_type": "code",
   "execution_count": null,
   "metadata": {},
   "outputs": [],
   "source": [
    "# Kithen and apartments must have quality ratings. Therefore, we will fill\n",
    "# KitchenQual and Functional missing values with the respective modes.\n",
    "\n",
    "df_full.loc[df_full[df_full.Functional.isna()].index, 'Functional'] = df_train.Functional.mode()[0]\n",
    "df_full.loc[df_full[df_full.KitchenQual.isna()].index, 'KitchenQual'] = df_train.KitchenQual.mode()[0]\n"
   ]
  },
  {
   "cell_type": "code",
   "execution_count": null,
   "metadata": {},
   "outputs": [],
   "source": [
    "for elem in ordinal_1:\n",
    "    print(elem)\n",
    "    df_full[elem] = df_full[elem].apply(lambda x: ordinal_map_1[x])\n",
    "for elem in ordinal_2:\n",
    "    df_full[elem] = df_full[elem].apply(lambda x: ordinal_map_2[x])\n",
    "for elem in ordinal_3:\n",
    "    df_full[elem] = df_full[elem].apply(lambda x: ordinal_map_3[x])\n",
    "for elem in ordinal_4:\n",
    "    df_full[elem] = df_full[elem].apply(lambda x: ordinal_map_4[x])\n",
    "for elem in ordinal_5:\n",
    "    df_full[elem] = df_full[elem].apply(lambda x: ordinal_map_5[x])\n",
    "for elem in ordinal_6:\n",
    "    df_full[elem] = df_full[elem].apply(lambda x: ordinal_map_6[x])\n",
    "for elem in ordinal_7:\n",
    "    df_full[elem] = df_full[elem].apply(lambda x: ordinal_map_7[x])"
   ]
  },
  {
   "cell_type": "code",
   "execution_count": null,
   "metadata": {},
   "outputs": [],
   "source": [
    "################# DEALING WITH CATEGORICAL VARIABLES ###########################"
   ]
  },
  {
   "cell_type": "code",
   "execution_count": null,
   "metadata": {},
   "outputs": [],
   "source": [
    "def get_target_value(elem, df, y):\n",
    "    values = df[elem].unique()\n",
    "    return df[[elem, y]].groupby(elem).median()\n",
    "    # Should we return mean or median? We can check this through crossval"
   ]
  },
  {
   "cell_type": "code",
   "execution_count": null,
   "metadata": {},
   "outputs": [],
   "source": [
    "df_full.MSSubClass = df_full.MSSubClass.apply(lambda x: str(x))"
   ]
  },
  {
   "cell_type": "code",
   "execution_count": null,
   "metadata": {},
   "outputs": [],
   "source": [
    "df_full_ohe = pd.get_dummies(df_full[categorical])"
   ]
  },
  {
   "cell_type": "code",
   "execution_count": null,
   "metadata": {},
   "outputs": [],
   "source": [
    "df_full_ohe = df_full_ohe.join(df_full[numerical]).join(df_full[ordinal])"
   ]
  },
  {
   "cell_type": "code",
   "execution_count": null,
   "metadata": {},
   "outputs": [],
   "source": [
    "df_train_ohe = df_full_ohe.loc[:1460]\n",
    "df_train_ohe = df_train_ohe.reset_index(drop=True).join(y_train)\n",
    "df_test_ohe = df_full_ohe.loc[1460:]"
   ]
  },
  {
   "cell_type": "code",
   "execution_count": null,
   "metadata": {},
   "outputs": [],
   "source": [
    "df_train_ohe.to_csv('train_ohe.csv')\n",
    "df_test_ohe.to_csv('test_ohe.csv')"
   ]
  },
  {
   "cell_type": "code",
   "execution_count": null,
   "metadata": {},
   "outputs": [],
   "source": [
    "df_full.loc[df_full[df_full.SaleType.isna()].index, 'SaleType'] = df_train.SaleType.mode()[0]\n",
    "df_full.loc[df_full[df_full.Exterior1st.isna()].index, 'Exterior1st'] = df_train.Exterior1st.mode()[0]\n",
    "df_full.loc[df_full[df_full.Electrical.isna()].index, 'Electrical'] = df_train.Electrical.mode()[0]\n",
    "df_full.loc[df_full[df_full.Exterior2nd.isna()].index, 'Exterior2nd'] = df_train.Exterior2nd.mode()[0]\n",
    "df_full.loc[df_full[df_full.MSZoning.isna()].index, 'MSZoning'] = df_train.MSZoning.mode()[0]\n"
   ]
  },
  {
   "cell_type": "code",
   "execution_count": null,
   "metadata": {},
   "outputs": [],
   "source": [
    "df_full.fillna('None', inplace=True)"
   ]
  },
  {
   "cell_type": "code",
   "execution_count": null,
   "metadata": {},
   "outputs": [],
   "source": [
    "df_train = df_full.loc[:1460].join(y_train)"
   ]
  },
  {
   "cell_type": "code",
   "execution_count": null,
   "metadata": {},
   "outputs": [],
   "source": [
    "list(categorical)"
   ]
  },
  {
   "cell_type": "code",
   "execution_count": null,
   "metadata": {},
   "outputs": [],
   "source": [
    "to_other"
   ]
  },
  {
   "cell_type": "code",
   "execution_count": null,
   "metadata": {},
   "outputs": [],
   "source": []
  },
  {
   "cell_type": "code",
   "execution_count": null,
   "metadata": {},
   "outputs": [],
   "source": [
    "df_train[elem].apply(lambda x: 'Other' if x in to_other \n",
    "                                          else x)"
   ]
  },
  {
   "cell_type": "code",
   "execution_count": null,
   "metadata": {},
   "outputs": [],
   "source": [
    "for elem in categorical:\n",
    "    print(elem)\n",
    "    to_other = df_full.groupby(elem)['KitchenQual'].count()[\n",
    "        df_full.groupby(elem)['KitchenQual'].count()<50].index\n",
    "    df_train[elem] = df_train[elem].apply(lambda x: 'Other' if x in to_other \n",
    "                                          else x)\n",
    "    tmp = get_target_value(elem, df_train, 'SalePrice')\n",
    "    df_full[elem] = df_full[elem].apply(lambda x: tmp.loc[x])"
   ]
  },
  {
   "cell_type": "code",
   "execution_count": null,
   "metadata": {},
   "outputs": [],
   "source": [
    "df_full.MSSubClass.unique()"
   ]
  },
  {
   "cell_type": "code",
   "execution_count": null,
   "metadata": {},
   "outputs": [],
   "source": [
    "df_train.groupby('MSSubClass').count()"
   ]
  }
 ],
 "metadata": {
  "kernelspec": {
   "display_name": "Python 3",
   "language": "python",
   "name": "python3"
  },
  "language_info": {
   "codemirror_mode": {
    "name": "ipython",
    "version": 3
   },
   "file_extension": ".py",
   "mimetype": "text/x-python",
   "name": "python",
   "nbconvert_exporter": "python",
   "pygments_lexer": "ipython3",
   "version": "3.8.5"
  }
 },
 "nbformat": 4,
 "nbformat_minor": 4
}
