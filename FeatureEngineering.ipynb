{
 "cells": [
  {
   "cell_type": "code",
   "execution_count": 394,
   "metadata": {},
   "outputs": [],
   "source": [
    "import pandas as pd\n",
    "import numpy as np"
   ]
  },
  {
   "cell_type": "code",
   "execution_count": 395,
   "metadata": {},
   "outputs": [],
   "source": [
    "df_train = pd.read_csv('train.csv')"
   ]
  },
  {
   "cell_type": "code",
   "execution_count": 396,
   "metadata": {},
   "outputs": [],
   "source": [
    "df_test = pd.read_csv('test.csv')"
   ]
  },
  {
   "cell_type": "code",
   "execution_count": null,
   "metadata": {},
   "outputs": [],
   "source": []
  },
  {
   "cell_type": "code",
   "execution_count": 397,
   "metadata": {},
   "outputs": [
    {
     "data": {
      "text/plain": [
       "(1460, 81)"
      ]
     },
     "execution_count": 397,
     "metadata": {},
     "output_type": "execute_result"
    }
   ],
   "source": [
    "df_train.shape"
   ]
  },
  {
   "cell_type": "code",
   "execution_count": 398,
   "metadata": {},
   "outputs": [],
   "source": [
    "numerical = ['LotFrontage', 'LotArea', 'YearBuilt', 'YearRemodAdd', \n",
    "             'MasVnrArea', 'BsmtFinSF1', 'BsmtFinSF2', 'BsmtUnfSF',\n",
    "             'TotalBsmtSF', '1stFlrSF', '2ndFlrSF','LowQualFinSF', \n",
    "             'GrLivArea', 'BsmtFullBath', 'BsmtHalfBath', 'FullBath',\n",
    "             'HalfBath', 'TotRmsAbvGrd', 'Fireplaces', 'KitchenAbvGr',\n",
    "             'GarageYrBlt', 'GarageCars', 'GarageArea', 'WoodDeckSF', \n",
    "             'BedroomAbvGr', 'OpenPorchSF', 'EnclosedPorch', '3SsnPorch', \n",
    "             'ScreenPorch', 'PoolArea', 'MiscVal']\n",
    "ordinal = ['OverallQual', 'OverallCond', 'ExterQual', 'ExterCond', \n",
    "           'BsmtQual', 'BsmtCond', 'BsmtExposure', 'BsmtFinType1',\n",
    "           'BsmtFinType2', 'HeatingQC', 'KitchenQual', 'Functional', \n",
    "           'FireplaceQu', 'GarageFinish', 'GarageQual', 'GarageCond', \n",
    "           'PavedDrive', 'PoolQC', 'Fence']\n",
    "binary = ['CentralAir']\n",
    "cyclical = ['MoSold', 'YrSold']\n",
    "ids = ['Id'] \n",
    "goal = ['SalePrice']\n",
    "categorical = set(df_train.columns).difference(set(numerical),\n",
    "                                              set(ordinal), set(binary),\n",
    "                                              set(cyclical), set(ids),\n",
    "                                              set(goal))\n"
   ]
  },
  {
   "cell_type": "code",
   "execution_count": 399,
   "metadata": {},
   "outputs": [],
   "source": [
    "y_train = df_train.SalePrice\n",
    "df_full = pd.concat([df_train.drop('SalePrice', axis=1), df_test])\n",
    "df_full.set_index('Id', inplace=True, drop=True)"
   ]
  },
  {
   "cell_type": "code",
   "execution_count": 400,
   "metadata": {},
   "outputs": [],
   "source": [
    "################# DEALING WITH NUMERICAL VARIABLES ###########################"
   ]
  },
  {
   "cell_type": "code",
   "execution_count": 401,
   "metadata": {},
   "outputs": [],
   "source": [
    "# Transform Month and Year sold into a single\n",
    "df_full.MoSold = (df_full.MoSold - 1)/12\n",
    "df_full['TimeSold'] = df_full.MoSold + df_full.YrSold\n",
    "numerical.append('TimeSold')\n",
    "df_full.drop(cyclical, axis=1, inplace=True)"
   ]
  },
  {
   "cell_type": "code",
   "execution_count": 402,
   "metadata": {},
   "outputs": [
    {
     "data": {
      "text/html": [
       "<div>\n",
       "<style scoped>\n",
       "    .dataframe tbody tr th:only-of-type {\n",
       "        vertical-align: middle;\n",
       "    }\n",
       "\n",
       "    .dataframe tbody tr th {\n",
       "        vertical-align: top;\n",
       "    }\n",
       "\n",
       "    .dataframe thead th {\n",
       "        text-align: right;\n",
       "    }\n",
       "</style>\n",
       "<table border=\"1\" class=\"dataframe\">\n",
       "  <thead>\n",
       "    <tr style=\"text-align: right;\">\n",
       "      <th></th>\n",
       "      <th>LotFrontage</th>\n",
       "      <th>LotArea</th>\n",
       "      <th>YearBuilt</th>\n",
       "      <th>YearRemodAdd</th>\n",
       "      <th>MasVnrArea</th>\n",
       "      <th>BsmtFinSF1</th>\n",
       "      <th>BsmtFinSF2</th>\n",
       "      <th>BsmtUnfSF</th>\n",
       "      <th>TotalBsmtSF</th>\n",
       "      <th>1stFlrSF</th>\n",
       "      <th>...</th>\n",
       "      <th>GarageArea</th>\n",
       "      <th>WoodDeckSF</th>\n",
       "      <th>BedroomAbvGr</th>\n",
       "      <th>OpenPorchSF</th>\n",
       "      <th>EnclosedPorch</th>\n",
       "      <th>3SsnPorch</th>\n",
       "      <th>ScreenPorch</th>\n",
       "      <th>PoolArea</th>\n",
       "      <th>MiscVal</th>\n",
       "      <th>TimeSold</th>\n",
       "    </tr>\n",
       "    <tr>\n",
       "      <th>Id</th>\n",
       "      <th></th>\n",
       "      <th></th>\n",
       "      <th></th>\n",
       "      <th></th>\n",
       "      <th></th>\n",
       "      <th></th>\n",
       "      <th></th>\n",
       "      <th></th>\n",
       "      <th></th>\n",
       "      <th></th>\n",
       "      <th></th>\n",
       "      <th></th>\n",
       "      <th></th>\n",
       "      <th></th>\n",
       "      <th></th>\n",
       "      <th></th>\n",
       "      <th></th>\n",
       "      <th></th>\n",
       "      <th></th>\n",
       "      <th></th>\n",
       "      <th></th>\n",
       "    </tr>\n",
       "  </thead>\n",
       "  <tbody>\n",
       "    <tr>\n",
       "      <th>1</th>\n",
       "      <td>65.0</td>\n",
       "      <td>8450</td>\n",
       "      <td>2003</td>\n",
       "      <td>2003</td>\n",
       "      <td>196.0</td>\n",
       "      <td>706.0</td>\n",
       "      <td>0.0</td>\n",
       "      <td>150.0</td>\n",
       "      <td>856.0</td>\n",
       "      <td>856</td>\n",
       "      <td>...</td>\n",
       "      <td>548.0</td>\n",
       "      <td>0</td>\n",
       "      <td>3</td>\n",
       "      <td>61</td>\n",
       "      <td>0</td>\n",
       "      <td>0</td>\n",
       "      <td>0</td>\n",
       "      <td>0</td>\n",
       "      <td>0</td>\n",
       "      <td>2008.083333</td>\n",
       "    </tr>\n",
       "    <tr>\n",
       "      <th>2</th>\n",
       "      <td>80.0</td>\n",
       "      <td>9600</td>\n",
       "      <td>1976</td>\n",
       "      <td>1976</td>\n",
       "      <td>0.0</td>\n",
       "      <td>978.0</td>\n",
       "      <td>0.0</td>\n",
       "      <td>284.0</td>\n",
       "      <td>1262.0</td>\n",
       "      <td>1262</td>\n",
       "      <td>...</td>\n",
       "      <td>460.0</td>\n",
       "      <td>298</td>\n",
       "      <td>3</td>\n",
       "      <td>0</td>\n",
       "      <td>0</td>\n",
       "      <td>0</td>\n",
       "      <td>0</td>\n",
       "      <td>0</td>\n",
       "      <td>0</td>\n",
       "      <td>2007.333333</td>\n",
       "    </tr>\n",
       "    <tr>\n",
       "      <th>3</th>\n",
       "      <td>68.0</td>\n",
       "      <td>11250</td>\n",
       "      <td>2001</td>\n",
       "      <td>2002</td>\n",
       "      <td>162.0</td>\n",
       "      <td>486.0</td>\n",
       "      <td>0.0</td>\n",
       "      <td>434.0</td>\n",
       "      <td>920.0</td>\n",
       "      <td>920</td>\n",
       "      <td>...</td>\n",
       "      <td>608.0</td>\n",
       "      <td>0</td>\n",
       "      <td>3</td>\n",
       "      <td>42</td>\n",
       "      <td>0</td>\n",
       "      <td>0</td>\n",
       "      <td>0</td>\n",
       "      <td>0</td>\n",
       "      <td>0</td>\n",
       "      <td>2008.666667</td>\n",
       "    </tr>\n",
       "    <tr>\n",
       "      <th>4</th>\n",
       "      <td>60.0</td>\n",
       "      <td>9550</td>\n",
       "      <td>1915</td>\n",
       "      <td>1970</td>\n",
       "      <td>0.0</td>\n",
       "      <td>216.0</td>\n",
       "      <td>0.0</td>\n",
       "      <td>540.0</td>\n",
       "      <td>756.0</td>\n",
       "      <td>961</td>\n",
       "      <td>...</td>\n",
       "      <td>642.0</td>\n",
       "      <td>0</td>\n",
       "      <td>3</td>\n",
       "      <td>35</td>\n",
       "      <td>272</td>\n",
       "      <td>0</td>\n",
       "      <td>0</td>\n",
       "      <td>0</td>\n",
       "      <td>0</td>\n",
       "      <td>2006.083333</td>\n",
       "    </tr>\n",
       "    <tr>\n",
       "      <th>5</th>\n",
       "      <td>84.0</td>\n",
       "      <td>14260</td>\n",
       "      <td>2000</td>\n",
       "      <td>2000</td>\n",
       "      <td>350.0</td>\n",
       "      <td>655.0</td>\n",
       "      <td>0.0</td>\n",
       "      <td>490.0</td>\n",
       "      <td>1145.0</td>\n",
       "      <td>1145</td>\n",
       "      <td>...</td>\n",
       "      <td>836.0</td>\n",
       "      <td>192</td>\n",
       "      <td>4</td>\n",
       "      <td>84</td>\n",
       "      <td>0</td>\n",
       "      <td>0</td>\n",
       "      <td>0</td>\n",
       "      <td>0</td>\n",
       "      <td>0</td>\n",
       "      <td>2008.916667</td>\n",
       "    </tr>\n",
       "  </tbody>\n",
       "</table>\n",
       "<p>5 rows × 32 columns</p>\n",
       "</div>"
      ],
      "text/plain": [
       "    LotFrontage  LotArea  YearBuilt  YearRemodAdd  MasVnrArea  BsmtFinSF1  \\\n",
       "Id                                                                          \n",
       "1          65.0     8450       2003          2003       196.0       706.0   \n",
       "2          80.0     9600       1976          1976         0.0       978.0   \n",
       "3          68.0    11250       2001          2002       162.0       486.0   \n",
       "4          60.0     9550       1915          1970         0.0       216.0   \n",
       "5          84.0    14260       2000          2000       350.0       655.0   \n",
       "\n",
       "    BsmtFinSF2  BsmtUnfSF  TotalBsmtSF  1stFlrSF  ...  GarageArea  WoodDeckSF  \\\n",
       "Id                                                ...                           \n",
       "1          0.0      150.0        856.0       856  ...       548.0           0   \n",
       "2          0.0      284.0       1262.0      1262  ...       460.0         298   \n",
       "3          0.0      434.0        920.0       920  ...       608.0           0   \n",
       "4          0.0      540.0        756.0       961  ...       642.0           0   \n",
       "5          0.0      490.0       1145.0      1145  ...       836.0         192   \n",
       "\n",
       "    BedroomAbvGr  OpenPorchSF  EnclosedPorch  3SsnPorch  ScreenPorch  \\\n",
       "Id                                                                     \n",
       "1              3           61              0          0            0   \n",
       "2              3            0              0          0            0   \n",
       "3              3           42              0          0            0   \n",
       "4              3           35            272          0            0   \n",
       "5              4           84              0          0            0   \n",
       "\n",
       "    PoolArea  MiscVal     TimeSold  \n",
       "Id                                  \n",
       "1          0        0  2008.083333  \n",
       "2          0        0  2007.333333  \n",
       "3          0        0  2008.666667  \n",
       "4          0        0  2006.083333  \n",
       "5          0        0  2008.916667  \n",
       "\n",
       "[5 rows x 32 columns]"
      ]
     },
     "execution_count": 402,
     "metadata": {},
     "output_type": "execute_result"
    }
   ],
   "source": [
    "df_full[numerical].head()"
   ]
  },
  {
   "cell_type": "code",
   "execution_count": 403,
   "metadata": {},
   "outputs": [
    {
     "data": {
      "text/plain": [
       "LotFrontage     486\n",
       "MasVnrArea       23\n",
       "BsmtFinSF1        1\n",
       "BsmtFinSF2        1\n",
       "BsmtUnfSF         1\n",
       "TotalBsmtSF       1\n",
       "BsmtFullBath      2\n",
       "BsmtHalfBath      2\n",
       "GarageYrBlt     159\n",
       "GarageCars        1\n",
       "GarageArea        1\n",
       "dtype: int64"
      ]
     },
     "execution_count": 403,
     "metadata": {},
     "output_type": "execute_result"
    }
   ],
   "source": [
    "df_full[numerical].isna().sum()[df_full[numerical].isna().any()]"
   ]
  },
  {
   "cell_type": "code",
   "execution_count": 404,
   "metadata": {},
   "outputs": [],
   "source": [
    "df_full[numerical] =  df_full[numerical].fillna(0)\n",
    "# These NAs are related to missing pieces in the house (no garage, no front)\n",
    "# etc. 0 is adequate as it can be regressed on for areas, while it allows an\n",
    "# easy split and separation between HAS - HAS NOT"
   ]
  },
  {
   "cell_type": "code",
   "execution_count": 405,
   "metadata": {},
   "outputs": [],
   "source": [
    "################# DEALING WITH ORDINAL VARIABLES ###########################"
   ]
  },
  {
   "cell_type": "code",
   "execution_count": 406,
   "metadata": {},
   "outputs": [
    {
     "data": {
      "text/plain": [
       "['OverallQual',\n",
       " 'OverallCond',\n",
       " 'ExterQual',\n",
       " 'ExterCond',\n",
       " 'BsmtQual',\n",
       " 'BsmtCond',\n",
       " 'BsmtExposure',\n",
       " 'BsmtFinType1',\n",
       " 'BsmtFinType2',\n",
       " 'HeatingQC',\n",
       " 'KitchenQual',\n",
       " 'Functional',\n",
       " 'FireplaceQu',\n",
       " 'GarageFinish',\n",
       " 'GarageQual',\n",
       " 'GarageCond',\n",
       " 'PavedDrive',\n",
       " 'PoolQC',\n",
       " 'Fence']"
      ]
     },
     "execution_count": 406,
     "metadata": {},
     "output_type": "execute_result"
    }
   ],
   "source": [
    "ordinal"
   ]
  },
  {
   "cell_type": "code",
   "execution_count": 407,
   "metadata": {},
   "outputs": [
    {
     "data": {
      "text/plain": [
       "array(['Gd', 'TA', 'Ex', 'Fa'], dtype=object)"
      ]
     },
     "execution_count": 407,
     "metadata": {},
     "output_type": "execute_result"
    }
   ],
   "source": [
    "df_full.ExterQual.unique()"
   ]
  },
  {
   "cell_type": "code",
   "execution_count": 408,
   "metadata": {},
   "outputs": [],
   "source": [
    "ordinal_map_1 = {'Ex':5,\n",
    "                 'Gd':4,\n",
    "                 'TA':3,\n",
    "                 'Fa':2,\n",
    "                 'Po':1,\n",
    "                 np.nan: 0}\n",
    "ordinal_map_2 = {'Gd':4,\n",
    "                 'Av':3,\n",
    "                 'Mn':2,\n",
    "                 'No':1,\n",
    "                 np.nan: 0}\n",
    "ordinal_map_3 = {'GLQ':6,\n",
    "                 'ALQ':5,\n",
    "                 'BLQ':4,\n",
    "                 'Rec':3,\n",
    "                 'LwQ':2,\n",
    "                 'Unf':1,\n",
    "                 np.nan: 0}\n",
    "ordinal_map_4 = {'Typ':8,\n",
    "                 'Min1':7,\n",
    "                 'Min2':6,\n",
    "                 'Mod':5,\n",
    "                 'Maj1':4,\n",
    "                 'Maj2':3,\n",
    "                 'Sev':2,\n",
    "                 'Sav':1}\n",
    "ordinal_map_5 = {'Fin':3,\n",
    "                 'RFn':2,\n",
    "                 'Unf':1,\n",
    "                 np.nan: 0}\n",
    "ordinal_map_6 = {'Y':2,\n",
    "                 'P':2,\n",
    "                 'N':1,\n",
    "                 np.nan: 0}\n",
    "ordinal_map_7 = {'GdPrv':4,\n",
    "                 'MnPrv':3,\n",
    "                 'GdWo':2,\n",
    "                 'MnWw':1,\n",
    "                 np.nan: 0}"
   ]
  },
  {
   "cell_type": "code",
   "execution_count": 409,
   "metadata": {},
   "outputs": [],
   "source": [
    "ordinal_2 = ['BsmtExposure']\n",
    "ordinal_3 = ['BsmtFinType1', 'BsmtFinType2']\n",
    "ordinal_4 = ['Functional']\n",
    "ordinal_5 = ['GarageFinish']\n",
    "ordinal_6 = ['PavedDrive']\n",
    "ordinal_7 = ['Fence']\n",
    "ordinal_num = ['OverallCond', 'OverallQual']\n",
    "ordinal_1 = list(set(ordinal).difference(set(ordinal_2), set(ordinal_3),\n",
    "                                        set(ordinal_3), set(ordinal_4),\n",
    "                                        set(ordinal_5), set(ordinal_6),\n",
    "                                        set(ordinal_7), set(ordinal_num)))"
   ]
  },
  {
   "cell_type": "code",
   "execution_count": 410,
   "metadata": {},
   "outputs": [],
   "source": [
    "# Kithen and apartments must have quality ratings. Therefore, we will fill\n",
    "# KitchenQual and Functional missing values with the respective modes.\n",
    "\n",
    "df_full.loc[df_full[df_full.Functional.isna()].index, 'Functional'] = df_train.Functional.mode()[0]\n",
    "df_full.loc[df_full[df_full.KitchenQual.isna()].index, 'KitchenQual'] = df_train.KitchenQual.mode()[0]\n"
   ]
  },
  {
   "cell_type": "code",
   "execution_count": 411,
   "metadata": {},
   "outputs": [
    {
     "name": "stdout",
     "output_type": "stream",
     "text": [
      "HeatingQC\n",
      "PoolQC\n",
      "ExterQual\n",
      "ExterCond\n",
      "KitchenQual\n",
      "GarageQual\n",
      "BsmtQual\n",
      "FireplaceQu\n",
      "GarageCond\n",
      "BsmtCond\n"
     ]
    }
   ],
   "source": [
    "for elem in ordinal_1:\n",
    "    print(elem)\n",
    "    df_full[elem] = df_full[elem].apply(lambda x: ordinal_map_1[x])\n",
    "for elem in ordinal_2:\n",
    "    df_full[elem] = df_full[elem].apply(lambda x: ordinal_map_2[x])\n",
    "for elem in ordinal_3:\n",
    "    df_full[elem] = df_full[elem].apply(lambda x: ordinal_map_3[x])\n",
    "for elem in ordinal_4:\n",
    "    df_full[elem] = df_full[elem].apply(lambda x: ordinal_map_4[x])\n",
    "for elem in ordinal_5:\n",
    "    df_full[elem] = df_full[elem].apply(lambda x: ordinal_map_5[x])\n",
    "for elem in ordinal_6:\n",
    "    df_full[elem] = df_full[elem].apply(lambda x: ordinal_map_6[x])\n",
    "for elem in ordinal_7:\n",
    "    df_full[elem] = df_full[elem].apply(lambda x: ordinal_map_7[x])"
   ]
  },
  {
   "cell_type": "code",
   "execution_count": 412,
   "metadata": {},
   "outputs": [],
   "source": [
    "################# DEALING WITH CATEGORICAL VARIABLES ###########################"
   ]
  },
  {
   "cell_type": "code",
   "execution_count": 413,
   "metadata": {},
   "outputs": [],
   "source": [
    "def get_target_value(elem):\n",
    "    values = df_train[elem].unique()\n",
    "    return df_train[[elem, 'SalePrice']].groupby(elem).median()\n",
    "    # Should we return mean or median? We can check this through crossval"
   ]
  },
  {
   "cell_type": "code",
   "execution_count": 414,
   "metadata": {},
   "outputs": [],
   "source": [
    "df_full.MSSubClass = df_full.MSSubClass.apply(lambda x: str(x))"
   ]
  },
  {
   "cell_type": "code",
   "execution_count": 415,
   "metadata": {},
   "outputs": [],
   "source": [
    "df_full_ohe = pd.get_dummies(df_full[categorical])"
   ]
  },
  {
   "cell_type": "code",
   "execution_count": 416,
   "metadata": {},
   "outputs": [],
   "source": [
    "df_full_ohe = df_full_ohe.join(df_full[numerical]).join(df_full[ordinal])"
   ]
  },
  {
   "cell_type": "code",
   "execution_count": 417,
   "metadata": {},
   "outputs": [],
   "source": [
    "df_train_ohe = df_full_ohe.loc[:1460]\n",
    "df_train_ohe = df_train_ohe.reset_index(drop=True).join(y_train)\n",
    "df_test_ohe = df_full_ohe.loc[1460:]"
   ]
  },
  {
   "cell_type": "code",
   "execution_count": 419,
   "metadata": {},
   "outputs": [],
   "source": [
    "df_train_ohe.to_csv('train_ohe.csv')\n",
    "df_test_ohe.to_csv('test_ohe.csv')"
   ]
  }
 ],
 "metadata": {
  "kernelspec": {
   "display_name": "Python 3",
   "language": "python",
   "name": "python3"
  },
  "language_info": {
   "codemirror_mode": {
    "name": "ipython",
    "version": 3
   },
   "file_extension": ".py",
   "mimetype": "text/x-python",
   "name": "python",
   "nbconvert_exporter": "python",
   "pygments_lexer": "ipython3",
   "version": "3.8.5"
  }
 },
 "nbformat": 4,
 "nbformat_minor": 4
}
